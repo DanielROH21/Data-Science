{
 "cells": [
  {
   "cell_type": "markdown",
   "id": "bae3fa1f-9b4d-4e9b-b0ab-e4349d7fc81a",
   "metadata": {
    "deletable": false,
    "editable": false
   },
   "source": [
    "# Data Science Tools and Ecosystem"
   ]
  },
  {
   "cell_type": "markdown",
   "id": "8f84b9c2-5684-47a0-a18f-e2908292508c",
   "metadata": {
    "deletable": false,
    "editable": false
   },
   "source": [
    "In this notebook, Data Science Tools and Ecosystem are summarized."
   ]
  },
  {
   "cell_type": "markdown",
   "id": "e668944c-1d8d-44ff-9889-921dd7852ae6",
   "metadata": {
    "deletable": false,
    "editable": false
   },
   "source": [
    "__Objetives:__\n",
    "- Popular languages for Data Science\n",
    "- Commonly used libraries\n",
    "- Aritmetic expressions\n",
    "- Somo code examples"
   ]
  },
  {
   "cell_type": "markdown",
   "id": "f1c5f37c-1680-4797-a67a-9f08eaff2a4c",
   "metadata": {
    "deletable": false,
    "editable": false
   },
   "source": [
    "`Some of the popular languages that Data Scientists use are:`\n",
    "1. Python\n",
    "2. R\n",
    "3. Java"
   ]
  },
  {
   "cell_type": "markdown",
   "id": "c73a73ee-3b41-4a67-a8c8-62dd549480f5",
   "metadata": {
    "deletable": false,
    "editable": false
   },
   "source": [
    "`Some of the commonly used libraries used by Data Scientists include:`\n",
    "1. sktlearn\n",
    "2. pandas\n",
    "3. matplotlib"
   ]
  },
  {
   "cell_type": "markdown",
   "id": "10797486-73a1-4aa4-85cc-b29727c5d6ca",
   "metadata": {
    "deletable": false,
    "editable": false
   },
   "source": [
    "||Data Science Tools|\n",
    "|:-----:|:------------:|\n",
    "|1|Jupyter Lab|\n",
    "|2|Visual Studio Code|\n",
    "|3|IBM Watson Studio|\n"
   ]
  },
  {
   "cell_type": "markdown",
   "id": "90cb705b-e16e-4db2-9651-4e7e585ace69",
   "metadata": {
    "deletable": false,
    "editable": false
   },
   "source": [
    "### Below are a few examples of evaluating arithmetic expressions in Python\n",
    "$c =a+b$ <br>\n",
    "$z=b^{2}$ <br>\n",
    "$e^{i \\pi}+1=0$"
   ]
  },
  {
   "cell_type": "code",
   "execution_count": 4,
   "id": "8ed3de4a-613f-41ab-b0a2-924ad3b47288",
   "metadata": {
    "deletable": false,
    "editable": false
   },
   "outputs": [
    {
     "data": {
      "text/plain": [
       "17"
      ]
     },
     "execution_count": 4,
     "metadata": {},
     "output_type": "execute_result"
    }
   ],
   "source": [
    "#This a simple arithmetic expression to mutiply then add integers\n",
    "(3*4)+5"
   ]
  },
  {
   "cell_type": "code",
   "execution_count": 8,
   "id": "3073cea6-6a25-4339-a961-c80aa4d0d3e5",
   "metadata": {
    "deletable": false,
    "editable": false
   },
   "outputs": [
    {
     "name": "stdout",
     "output_type": "stream",
     "text": [
      "200 minutos son: 3 horas y 20 minutos\n"
     ]
    }
   ],
   "source": [
    "#This will convert 200 minutes to hours by diving by 60\n",
    "minutos = 200\n",
    "print(f'{minutos} minutos son: {int(minutos/60)} horas y {minutos%60} minutos')"
   ]
  },
  {
   "cell_type": "markdown",
   "id": "de1732cb-4466-4c00-ba0a-02194b17e0aa",
   "metadata": {
    "deletable": false,
    "editable": false
   },
   "source": [
    "## Autor\n",
    "Oscar Daniel Reyes Herrera"
   ]
  },
  {
   "cell_type": "code",
   "execution_count": 2,
   "id": "9294b405-0a1e-41d0-8ad3-4323d555760d",
   "metadata": {
    "deletable": false,
    "editable": false,
    "visible": false
   },
   "outputs": [
    {
     "data": {
      "text/html": [
       "<style>\n",
       "table {float:left}\n",
       "</style>\n"
      ],
      "text/plain": [
       "<IPython.core.display.HTML object>"
      ]
     },
     "metadata": {},
     "output_type": "display_data"
    }
   ],
   "source": [
    "%%html\n",
    "<style>\n",
    "table {float:left}\n",
    "</style>\n"
   ]
  }
 ],
 "metadata": {
  "kernelspec": {
   "display_name": "Python 3 (ipykernel)",
   "language": "python",
   "name": "python3"
  },
  "language_info": {
   "codemirror_mode": {
    "name": "ipython",
    "version": 3
   },
   "file_extension": ".py",
   "mimetype": "text/x-python",
   "name": "python",
   "nbconvert_exporter": "python",
   "pygments_lexer": "ipython3",
   "version": "3.12.9"
  }
 },
 "nbformat": 4,
 "nbformat_minor": 5
}
